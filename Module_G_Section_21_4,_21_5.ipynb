{
  "nbformat": 4,
  "nbformat_minor": 0,
  "metadata": {
    "colab": {
      "provenance": [],
      "authorship_tag": "ABX9TyPofiMkeZSZ80QI3Hkpypan",
      "include_colab_link": true
    },
    "kernelspec": {
      "name": "python3",
      "display_name": "Python 3"
    },
    "language_info": {
      "name": "python"
    }
  },
  "cells": [
    {
      "cell_type": "markdown",
      "metadata": {
        "id": "view-in-github",
        "colab_type": "text"
      },
      "source": [
        "<a href=\"https://colab.research.google.com/github/Rohitcvs/ModuleG_Section-21.4-21.5/blob/main/Module_G_Section_21_4%2C_21_5.ipynb\" target=\"_parent\"><img src=\"https://colab.research.google.com/assets/colab-badge.svg\" alt=\"Open In Colab\"/></a>"
      ]
    },
    {
      "cell_type": "markdown",
      "source": [
        "1. Introduction to Numerical Integration\n",
        "\n",
        "   Numerical integration, also called numerical quadrature, refers to a family of methods for approximating the definite integral of a function. A “definite integral” of a function f(x) between two points a and b can be thought of as the area under the curve of f(x) over the interval [a, b]. Often, there is no simple way to compute this integral with an exact formula, or the function itself might be too complicated to integrate symbolically. Numerical methods step in to provide approximate solutions.\n",
        "\n",
        "   Common numerical integration methods include:\n",
        "\n",
        "   1. Left, Right, or Midpoint Riemann Sums (using rectangles),\n",
        "   2. Trapezoidal Rule (using trapezoids),\n",
        "   3. Simpson’s Rule (using parabolic arcs).\n",
        "\n",
        "   Of these, Simpson’s Rule is well‐known for its accuracy on smooth functions and is often preferred when we want a more precise approximation without resorting to extremely large numbers of subintervals.\n",
        "\n"
      ],
      "metadata": {
        "id": "ljeJbfuyXsMM"
      }
    },
    {
      "cell_type": "markdown",
      "source": [
        "2. What Is Simpson’s Rule?\n",
        "   \n",
        "   Simpson’s Rule is a technique that approximates the integral of a function f(x) over an interval [a, b] by using parabolas to model the shape of f(x) between successive points. Here’s a conceptual breakdown:\n",
        "\n",
        "   1. Split the interval [a, b] into an even number of subintervals.\n",
        "      We typically let n be the number of subintervals, and it must be an even integer (for reasons explained below). Each subinterval has the same width, often denoted by h. The width h can be computed as:\n",
        "      h = (b - a) / n\n",
        "   2. Evaluate the function at equally spaced points.\n",
        "      We take n+1 points:\n",
        "      x0 = a, x1 = a + h, x2 = a + 2h, ..., xn = b.\n",
        "      At each xk, we compute f(xk). These f(xk) values are the “samples” of our function.\n",
        "   3. Approximate each pair of subintervals with a parabola.\n",
        "      Instead of connecting points with straight lines (as in the Trapezoidal Rule), Simpson’s Rule effectively passes a parabola through every three consecutive points (xk, xk+1, xk+2). This step is usually done under the hood; you don’t explicitly construct the parabolas in code. However, by doing so, the method can capture more curvature of the function than a single straight line.\n",
        "   4. Apply the weighting pattern.\n",
        "      In the composite Simpson’s Rule (where we have multiple subintervals), the formula adds up function values with specific coefficients:\n",
        "      \n",
        "      1. The first point f(x0) and the last point f(xn) each get a weight of 1.\n",
        "      2. The points f(x1), f(x3), f(x5), and so on (all “odd” indices between the first and last) each get multiplied by 4.\n",
        "      3. The points f(x2), f(x4), f(x6), and so on (all “even” interior indices) each get multiplied by 2.\n",
        "\n",
        "      Finally, we multiply the sum of these weighted values by (h / 3) to get our integral approximation.\n",
        "\n"
      ],
      "metadata": {
        "id": "zNxqeCxHZYS5"
      }
    },
    {
      "cell_type": "markdown",
      "source": [
        "3. Why Does Simpson’s Rule Require an Even Number of Subintervals?\n",
        "   \n",
        "   For Simpson’s Rule to work consistently, we need pairs of subintervals (because each parabola spans two subintervals, covering three sample points). If you tried to use an odd number of subintervals, one “parabola segment” would be incomplete. That’s why n must be an even integer—so every pair of subintervals can be approximated by a parabola.\n",
        "\n"
      ],
      "metadata": {
        "id": "Bgw64-Hpa0ri"
      }
    },
    {
      "cell_type": "markdown",
      "source": [
        "4. Error Considerations\n",
        "\n",
        "   The accuracy of Simpson’s Rule is generally high for smooth functions because each parabola can closely fit the local curvature of the function. The theoretical error bound, in simplified terms, often depends on the fourth derivative of the function and the size of h. Specifically, if a function f(x) is four times differentiable, Simpson’s Rule converges quite fast as you decrease h (that is, as you increase n)."
      ],
      "metadata": {
        "id": "YXD7deDUbp5t"
      }
    },
    {
      "cell_type": "markdown",
      "source": [
        "5. Practical Example\n",
        "\n",
        "   As a simple demonstration, consider integrating sin(x) from 0 to pi. The exact answer is 2. With even a moderate number of subintervals, Simpson’s Rule will produce a number close to 2. Typically:\n",
        "\n",
        "   1. If n = 2, the approximation might not be very close, but it gives a reasonable guess.\n",
        "   2. If n = 10 or higher, you’ll see the result converge quickly to around 2.0."
      ],
      "metadata": {
        "id": "ekmQJbZYb7mt"
      }
    },
    {
      "cell_type": "code",
      "source": [
        "import numpy as np\n",
        "\n",
        "def simpson_rule(f, a, b, n):\n",
        "    \"\"\"\n",
        "    Approximates the integral of f(x) from a to b using Simpson's Rule.\n",
        "\n",
        "    Parameters:\n",
        "    -----------\n",
        "    f : function\n",
        "        The integrand, f(x).\n",
        "    a : float\n",
        "        Lower limit of integration.\n",
        "    b : float\n",
        "        Upper limit of integration.\n",
        "    n : int\n",
        "        Number of subintervals (must be even).\n",
        "\n",
        "    Returns:\n",
        "    --------\n",
        "    float\n",
        "        Approximate value of the definite integral.\n",
        "    \"\"\"\n",
        "    # Ensure the number of subintervals is even\n",
        "    if n % 2 != 0:\n",
        "        raise ValueError(\"The number of subintervals (n) must be even for Simpson's Rule.\")\n",
        "\n",
        "    # Subinterval width\n",
        "    h = (b - a) / n\n",
        "\n",
        "    # Create an array of sample points\n",
        "    x_values = np.linspace(a, b, n + 1)\n",
        "    # Compute the function's values at those points\n",
        "    y_values = f(x_values)\n",
        "\n",
        "    # Start the total with f(a) + f(b)\n",
        "    total = y_values[0] + y_values[-1]\n",
        "\n",
        "    # Add 4 * values at odd interior indices (x1, x3, x5, ...)\n",
        "    total += 4 * np.sum(y_values[1:-1:2])\n",
        "\n",
        "    # Add 2 * values at even interior indices (x2, x4, x6, ...)\n",
        "    total += 2 * np.sum(y_values[2:-1:2])\n",
        "\n",
        "    # Multiply by (h / 3) to get the final approximation\n",
        "    return (h / 3) * total\n",
        "\n",
        "if __name__ == \"__main__\":\n",
        "    # Example usage: integrate sin(x) from 0 to pi\n",
        "    def f(x):\n",
        "        return np.sin(x)\n",
        "\n",
        "    a = 0\n",
        "    b = np.pi\n",
        "    n = 10  # Must be even\n",
        "\n",
        "    result = simpson_rule(f, a, b, n)\n",
        "    print(\"Using Simpson's Rule to approximate the integral of sin(x) from 0 to pi\")\n",
        "    print(f\"Number of subintervals (n) = {n}, Approximate Value = {result}\")\n",
        "    print(\"The exact solution is 2.0 (approximately).\")\n",
        "    error = abs(result - 2.0)\n",
        "    print(f\"Error = {error}\")"
      ],
      "metadata": {
        "colab": {
          "base_uri": "https://localhost:8080/"
        },
        "id": "Co-iiG7GcRcz",
        "outputId": "2fddaea0-6505-4ee6-fa66-3b86f8fb2313"
      },
      "execution_count": 1,
      "outputs": [
        {
          "output_type": "stream",
          "name": "stdout",
          "text": [
            "Using Simpson's Rule to approximate the integral of sin(x) from 0 to pi\n",
            "Number of subintervals (n) = 10, Approximate Value = 2.0001095173150043\n",
            "The exact solution is 2.0 (approximately).\n",
            "Error = 0.00010951731500430384\n"
          ]
        }
      ]
    },
    {
      "cell_type": "code",
      "source": [],
      "metadata": {
        "id": "2ELYHeYtcp-I"
      },
      "execution_count": null,
      "outputs": []
    }
  ]
}